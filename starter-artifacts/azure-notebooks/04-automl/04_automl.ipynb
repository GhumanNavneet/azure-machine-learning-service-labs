{
  "cells": [
    {
      "metadata": {},
      "cell_type": "markdown",
      "source": "# Step 1 - Load training data and prepare Workspace #"
    },
    {
      "metadata": {
        "trusted": false
      },
      "cell_type": "code",
      "source": "import os\nimport numpy as np\nimport pandas as pd\nfrom sklearn import linear_model \nfrom sklearn.externals import joblib\nfrom sklearn.preprocessing import StandardScaler\nfrom sklearn.metrics import accuracy_score\nfrom sklearn.model_selection import train_test_split\nimport azureml\nfrom azureml.core import Run\nfrom azureml.core import Workspace\nfrom azureml.core.run import Run\nfrom azureml.core.experiment import Experiment\nfrom azureml.train.automl import AutoMLConfig\nimport pickle\n\n# Verify AML SDK Installed\n# view version history at https://pypi.org/project/azureml-sdk/#history \nprint(\"SDK Version:\", azureml.core.VERSION)\n\n\n# Load our training data set\nprint(\"Current working directory is \", os.path.abspath(os.path.curdir))\ndf_affordability = pd.read_csv('./data/UsedCars_Affordability.csv', delimiter=',')\nprint(df_affordability.head())\n\nfull_X = df_affordability[[\"Age\", \"KM\"]]\nfull_Y = df_affordability[[\"Affordable\"]]\n\n# Create a Workspace\n#Provide the Subscription ID of your existing Azure subscription\nsubscription_id = \"xxx-xxx-xxx\"\n\n#Provide values for the Resource Group and Workspace that will be created\nresource_group = \"aml-workspace-z\"\nworkspace_name = \"aml-workspace-z\"\nworkspace_region = 'westcentralus' # eastus, westcentralus, southeastasia, australiaeast, westeurope\n\n# By using the exist_ok param, if the worskpace already exists we get a reference to the existing workspace\nws = Workspace.create(\n    name = workspace_name,\n    subscription_id = subscription_id,\n    resource_group = resource_group, \n    location = workspace_region,\n    exist_ok = True)\n\nprint(\"Workspace Provisioning complete.\")",
      "execution_count": null,
      "outputs": []
    },
    {
      "metadata": {},
      "cell_type": "markdown",
      "source": "# Step 2 - Define a helper method that will use AutoML to train multiple models and pick the best one #"
    },
    {
      "metadata": {
        "trusted": false
      },
      "cell_type": "code",
      "source": "def auto_train_model(ws, experiment_name, model_name, full_X, full_Y,training_set_percentage, \n                     training_target_accuracy):\n\n    # start a training run by defining an experiment\n    experiment = Experiment(ws, experiment_name)\n    \n    train_X, test_X, train_Y, test_Y = train_test_split(full_X, full_Y, train_size=training_set_percentage, \n                                                        random_state=42)\n\n    train_Y_array = train_Y.values.flatten()\n\n    # Configure the automated ML job\n    # The model training is configured to run on the local machine\n    # The values for all settings are documented at \n    # https://docs.microsoft.com/en-us/azure/machine-learning/service/how-to-configure-auto-train\n    # We no longer have to scale the input values, as Auto ML will try various data scaling approaches automatically\n    Automl_config = AutoMLConfig(task = 'classification',\n                                 primary_metric = 'accuracy',\n                                 max_time_sec = 12000,\n                                 iterations = 20,\n                                 n_cross_validations = 3,\n                                 exit_score = training_target_accuracy,\n                                 blacklist_algos = ['kNN','LinearSVM'],\n                                 X = train_X,\n                                 y = train_Y_array,\n                                 path='./04-automl/outputs')\n\n    # Execute the job\n    run = experiment.submit(Automl_config, show_output=True)\n\n    # Get the run with the highest accuracy value.\n    best_run, best_model = run.get_output()\n\n    return (best_model, run, best_run)",
      "execution_count": null,
      "outputs": []
    },
    {
      "metadata": {},
      "cell_type": "markdown",
      "source": "# Step 3 - Execute the AutoML driven training #"
    },
    {
      "metadata": {
        "trusted": false
      },
      "cell_type": "code",
      "source": "experiment_name = \"Experiment-AutoML-04\"\nmodel_name = \"usedcarsmodel\"\ntraining_set_percentage = 0.50\ntraining_target_accuracy = 0.93\nbest_model, run, best_run = auto_train_model(ws, experiment_name, model_name, full_X, full_Y, \n                                             training_set_percentage, training_target_accuracy)\n\n# Examine some of the metrics for the best performing run\nimport pprint\npprint.pprint({k: v for k, v in best_run.get_metrics().items() if isinstance(v, float)})",
      "execution_count": null,
      "outputs": []
    },
    {
      "metadata": {},
      "cell_type": "markdown",
      "source": "# Step 4 - Try the best model #"
    },
    {
      "metadata": {
        "trusted": false
      },
      "cell_type": "code",
      "source": "age = 60\nkm = 40000\nprint(best_model.predict( [[age,km]] ))",
      "execution_count": null,
      "outputs": []
    },
    {
      "metadata": {},
      "cell_type": "markdown",
      "source": "# Step 5 - Register the best performing model for later use and deployment #"
    },
    {
      "metadata": {
        "trusted": false
      },
      "cell_type": "code",
      "source": "run.register_model(description='AutoML trained used cars classifier')",
      "execution_count": null,
      "outputs": []
    },
    {
      "metadata": {
        "trusted": false
      },
      "cell_type": "code",
      "source": "",
      "execution_count": null,
      "outputs": []
    }
  ],
  "metadata": {
    "kernelspec": {
      "name": "python36",
      "display_name": "Python 3.6",
      "language": "python"
    },
    "language_info": {
      "mimetype": "text/x-python",
      "nbconvert_exporter": "python",
      "name": "python",
      "pygments_lexer": "ipython3",
      "version": "3.6.6",
      "file_extension": ".py",
      "codemirror_mode": {
        "version": 3,
        "name": "ipython"
      }
    }
  },
  "nbformat": 4,
  "nbformat_minor": 2
}